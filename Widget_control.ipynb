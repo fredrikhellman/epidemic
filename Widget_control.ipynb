{
 "cells": [
  {
   "cell_type": "code",
   "execution_count": 71,
   "metadata": {},
   "outputs": [
    {
     "data": {
      "application/vnd.jupyter.widget-view+json": {
       "model_id": "e140b595275b4057a360557f8e727058",
       "version_major": 2,
       "version_minor": 0
      },
      "text/plain": [
       "interactive(children=(IntSlider(value=14, description='lam', max=20, min=1), FloatSlider(value=1.0, descriptio…"
      ]
     },
     "metadata": {},
     "output_type": "display_data"
    },
    {
     "data": {
      "text/plain": [
       "<function __main__.interact_toy(lam, R0, RE, t_low, t_normal, t_max, pop)>"
      ]
     },
     "execution_count": 71,
     "metadata": {},
     "output_type": "execute_result"
    }
   ],
   "source": [
    "from __future__ import print_function\n",
    "from ipywidgets import interact, interactive, fixed, interact_manual\n",
    "import ipywidgets as widgets\n",
    "\n",
    "import matplotlib.cm as cm\n",
    "import numpy as np\n",
    "import matplotlib.pylab as plt\n",
    "\n",
    "from epidemic_compute import simulate\n",
    "\n",
    "\n",
    "\n",
    "\n",
    "def plot_epidemic(ts, xs, ys, zs,lam, R0, REs, t_low, t_normal, t_max, pop):\n",
    "    '''\n",
    "    Function to plot pandemic data\n",
    "    \n",
    "    inputs:\n",
    "    \n",
    "    \n",
    "    sideeffects:\n",
    "    plots stuff in ax\n",
    "    \n",
    "    returns:\n",
    "    ax\n",
    "    \n",
    "    '''\n",
    "    plt.figure(figsize=[10,10])\n",
    "    \n",
    "    ax1=plt.gca()\n",
    "    \n",
    "    plotm=np.array([0,1],dtype=int)\n",
    "    \n",
    "    cmap=cm.jet\n",
    "    colors= [cmap(number) for number in np.linspace(0,1,num=len(plotm))]\n",
    "    \n",
    "    [ax1.semilogy(ts, y, ls=':', color=color) for (y, color) in zip(np.array(ys).T[plotm], colors)]\n",
    "    [ax1.semilogy(ts, z, ls='-', color=color, label='RE(låg)={:.2}'.format(r)) for (r, z, color) in zip(REs[plotm], np.array(zs).T[plotm], colors)]\n",
    "\n",
    "    ax1.grid(which='major', axis='both', linestyle='--')\n",
    "    ax1.set_xticks([0, t_low, t_normal, ts[-1]])\n",
    "\n",
    "    ax1.text(t_low/2, 1.5e6, f'normal (R0)', horizontalalignment='center')\n",
    "    ax1.text((t_low+t_normal)/2, 1.5e6, f'låg (RE)')\n",
    "    ax1.text((t_normal+ts[-1])/2, 1.5e6, f'normal (R0)')\n",
    "\n",
    "    ax1.annotate(f'{int(zs[-1][0])}', (ts[-1], zs[-1][0]),\n",
    "                 xytext=(1.05*ts[-1], 3*zs[-1][0]),\n",
    "                 arrowprops={'arrowstyle': '->'})\n",
    "    ax1.annotate(f'{int(zs[-1][-1])}', (ts[-1], zs[-1][-1]),\n",
    "                 xytext=(0.92*ts[-1], 3*zs[-1][-1]),\n",
    "                 arrowprops={'arrowstyle': '->'})\n",
    "    ax1.set_ylim([1, pop*1.01])\n",
    "    ax1.set_xlabel('Dagar från första fallet')\n",
    "    ax1.set_ylabel('Antal personer (befolkning = {0:.0e})'.format(pop))\n",
    "    ax1.legend()\n",
    "    \n",
    "    return ax1\n",
    "\n",
    "\n",
    "def interact_toy(lam, R0, RE, t_low, t_normal, t_max, pop):\n",
    "    REs=np.array([R0,RE])\n",
    "    ts, xs, ys, zs=simulate(lam, R0, REs, t_low, t_normal, t_max, pop)\n",
    "    plot_epidemic(ts, xs, ys, zs,lam, R0, REs, t_low, t_normal, t_max, pop)\n",
    "\n",
    "\n",
    "interact(interact_toy,\n",
    "        RE=widgets.FloatSlider(min=0, max=2.4, steps=0.2,value=1,orientation='horizontal'), \n",
    "        lam=widgets.IntSlider(min=1,max=20,value=14),\n",
    "        R0=fixed(2.5),  \n",
    "        t_low=fixed(70),\n",
    "        t_normal=fixed(365*1.5), \n",
    "        t_max=fixed(365*2),\n",
    "        pop=fixed(10000000))\n",
    "            \n"
   ]
  },
  {
   "cell_type": "code",
   "execution_count": null,
   "metadata": {},
   "outputs": [],
   "source": []
  },
  {
   "cell_type": "code",
   "execution_count": null,
   "metadata": {},
   "outputs": [],
   "source": []
  }
 ],
 "metadata": {
  "kernelspec": {
   "display_name": "Python 3",
   "language": "python",
   "name": "python3"
  },
  "language_info": {
   "codemirror_mode": {
    "name": "ipython",
    "version": 3
   },
   "file_extension": ".py",
   "mimetype": "text/x-python",
   "name": "python",
   "nbconvert_exporter": "python",
   "pygments_lexer": "ipython3",
   "version": "3.7.7"
  }
 },
 "nbformat": 4,
 "nbformat_minor": 4
}
